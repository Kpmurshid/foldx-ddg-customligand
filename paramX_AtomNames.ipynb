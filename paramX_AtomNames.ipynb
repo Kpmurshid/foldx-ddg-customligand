{
 "cells": [
  {
   "cell_type": "markdown",
   "id": "iraqi-relation",
   "metadata": {},
   "source": [
    "# Parameterizing ligand\n"
   ]
  },
  {
   "cell_type": "code",
   "execution_count": 1,
   "id": "threatened-apartment",
   "metadata": {},
   "outputs": [],
   "source": [
    "from pyfoldx.handlers.fileHandler import FileHandler\n",
    "from pyfoldx.structure import Structure\n",
    "from pyfoldx.paramx import parameterize, JSonMolecule\n",
    "import os"
   ]
  },
  {
   "cell_type": "code",
   "execution_count": 2,
   "id": "ed504757-355e-4e8d-a5d9-dec7d7fbb839",
   "metadata": {},
   "outputs": [],
   "source": [
    "os.makedirs(\"paramx_output\", exist_ok=True)"
   ]
  },
  {
   "cell_type": "markdown",
   "id": "respiratory-chuck",
   "metadata": {},
   "source": [
    "## **Step 1**: Extract ligand coordinates from the PDB\n",
    "\n",
    "Load the structure and keep the lines of the ligand."
   ]
  },
  {
   "cell_type": "code",
   "execution_count": 3,
   "id": "impossible-hughes",
   "metadata": {},
   "outputs": [],
   "source": [
    "# Load your complex.pdb\n",
    "structure = Structure(\"complex\", \"complex.pdb\")"
   ]
  },
  {
   "cell_type": "markdown",
   "id": "knowing-electricity",
   "metadata": {},
   "source": [
    "The *Structure* class has a *data* dictionary organized by chains, residues and atoms."
   ]
  },
  {
   "cell_type": "code",
   "execution_count": 4,
   "id": "trying-standard",
   "metadata": {},
   "outputs": [
    {
     "data": {
      "text/plain": [
       "Residue(MFX,1,L,True)"
      ]
     },
     "execution_count": 4,
     "metadata": {},
     "output_type": "execute_result"
    }
   ],
   "source": [
    "# Extract the ligand residue\n",
    "lig_residue = None\n",
    "for chain in structure.data:\n",
    "    for res in structure.data[chain]:\n",
    "        if structure.data[chain][res].code == \"MFX\":\n",
    "            lig_residue = structure.data[chain][res]\n",
    "            break\n",
    "    if lig_residue:\n",
    "        break\n",
    "\n",
    "if not lig_residue:\n",
    "    raise ValueError(\"❌ Ligand residue 'MFX' not found in complex.pdb\")\n",
    "lig_residue"
   ]
  },
  {
   "cell_type": "code",
   "execution_count": 5,
   "id": "f820031c-e07a-459c-a94b-b546e5b22e98",
   "metadata": {},
   "outputs": [
    {
     "name": "stdout",
     "output_type": "stream",
     "text": [
      "✅ Extracted 31 lines for MFX.\n"
     ]
    }
   ],
   "source": [
    "lig_lines = []\n",
    "for chain in structure.data:\n",
    "    for res in structure.data[chain]:\n",
    "        if structure.data[chain][res].code == \"MFX\":\n",
    "            lig_lines.extend(structure.data[chain][res].toPdb().split(\"\\n\"))\n",
    "\n",
    "FileHandler.writeLines(\"paramx_output/ligand_full.pdb\", lig_lines)\n",
    "\n",
    "print(f\"✅ Extracted {len(lig_lines)} lines for MFX.\")"
   ]
  },
  {
   "cell_type": "markdown",
   "id": "classical-discovery",
   "metadata": {},
   "source": [
    "Isolate the MFX residue lines for parameterization"
   ]
  },
  {
   "cell_type": "code",
   "execution_count": 6,
   "id": "specific-aurora",
   "metadata": {},
   "outputs": [
    {
     "data": {
      "text/plain": [
       "['HETATM 8024  N1  MFX L   1     215.805 228.704 201.575  1.00  0.00           N  ',\n",
       " 'HETATM 8025  N2  MFX L   1     215.975 229.511 206.539  1.00  0.00           N  ',\n",
       " 'HETATM 8026  N3  MFX L   1     215.408 229.263 210.212  1.00  0.00           N  ',\n",
       " 'HETATM 8027  C1  MFX L   1     215.509 229.840 205.235  1.00  0.00           C  ',\n",
       " 'HETATM 8028  C2  MFX L   1     215.497 229.470 202.768  1.00  0.00           C  ',\n",
       " 'HETATM 8029  C3  MFX L   1     215.750 229.010 204.097  1.00  0.00           C  ',\n",
       " 'HETATM 8030  C4  MFX L   1     214.962 230.792 202.612  1.00  0.00           C  ',\n",
       " 'HETATM 8031  C5  MFX L   1     214.916 231.098 204.997  1.00  0.00           C  ',\n",
       " 'HETATM 8032  C6  MFX L   1     215.566 229.520 200.400  1.00  0.00           C  ',\n",
       " 'HETATM 8033  C7  MFX L   1     214.645 231.567 203.718  1.00  0.00           C  ',\n",
       " 'HETATM 8034  C8  MFX L   1     215.131 230.689 200.070  1.00  0.00           C  ',\n",
       " 'HETATM 8035  C9  MFX L   1     214.746 231.459 201.273  1.00  0.00           C  ',\n",
       " 'HETATM 8036  C10 MFX L   1     215.121 229.509 207.731  1.00  0.00           C  ',\n",
       " 'HETATM 8037  C11 MFX L   1     215.671 229.984 208.966  1.00  0.00           C  ',\n",
       " 'HETATM 8038  C12 MFX L   1     217.048 230.493 208.561  1.00  0.00           C  ',\n",
       " 'HETATM 8039  C13 MFX L   1     216.579 229.429 211.067  1.00  0.00           C  ',\n",
       " 'HETATM 8040  C14 MFX L   1     218.022 229.910 211.004  1.00  0.00           C  ',\n",
       " 'HETATM 8041  C15 MFX L   1     218.041 230.410 209.571  1.00  0.00           C  ',\n",
       " 'HETATM 8042  C16 MFX L   1     217.123 230.178 207.170  1.00  0.00           C  ',\n",
       " 'HETATM 8043  C17 MFX L   1     217.821 228.004 204.239  1.00  0.00           C  ',\n",
       " 'HETATM 8044  C18 MFX L   1     215.637 227.335 201.502  1.00  0.00           C  ',\n",
       " 'HETATM 8045  C19 MFX L   1     214.919 226.769 200.403  1.00  0.00           C  ',\n",
       " 'HETATM 8046  C20 MFX L   1     214.340 226.804 201.778  1.00  0.00           C  ',\n",
       " 'HETATM 8047  C21 MFX L   1     215.084 231.176 198.692  1.00  0.00           C  ',\n",
       " 'HETATM 8048  O1  MFX L   1     214.302 232.597 201.162  1.00  0.00           O  ',\n",
       " 'HETATM 8049  O2  MFX L   1     216.423 227.815 204.276  1.00  0.00           O  ',\n",
       " 'HETATM 8050  O3  MFX L   1     215.705 230.656 197.775  1.00  0.00           O  ',\n",
       " 'HETATM 8051  O4  MFX L   1     214.303 232.262 198.513  1.00  0.00           O  ',\n",
       " 'HETATM 8052  F1  MFX L   1     214.640 231.933 206.008  1.00  0.00           F  ',\n",
       " 'HETATM 8053  H1  MFX L   1     214.530 229.558 210.635  1.00  0.00           H  ',\n",
       " 'HETATM 8054  H2  MFX L   1     214.745 233.128 198.691  1.00  0.00           H  ']"
      ]
     },
     "execution_count": 6,
     "metadata": {},
     "output_type": "execute_result"
    }
   ],
   "source": [
    "lig_lines"
   ]
  },
  {
   "cell_type": "markdown",
   "id": "surprised-labor",
   "metadata": {},
   "source": [
    "## **Step 2**: Mapping MFX atoms to FoldX parameters\n",
    "\n",
    "Create atom mappings based on MFX's structure (modify according to your MFX's actual atoms):"
   ]
  },
  {
   "cell_type": "markdown",
   "id": "ad529670-2c3f-472e-b272-5616e627eac3",
   "metadata": {},
   "source": [
    "### 🔬 PyFoldX ParamX Atom Typing Guide\n",
    "\n",
    "This section defines the atom-type mapping used for PyFoldX ligand parameterization. You can either:\n",
    "\n",
    "- Use this mapping table manually when creating your custom `paramx` JSON files, or  \n",
    "- Use the provided `foldx_atomtyping.py` script, which applies these mappings automatically.\n",
    "\n",
    "---\n",
    "\n",
    "#### 🧾 Atom Type Mapping Table\n",
    "\n",
    "| Generic Atom Type       | FoldX Atom Name | Residue |\n",
    "|-------------------------|-----------------|---------|\n",
    "| `O_hydroxyl`            | `OG`            | `SER`   |\n",
    "| `O_ring`                | `O4*`           | `A`     |\n",
    "| `O_minus`               | `OD1`           | `ASP`   |\n",
    "| `O_carboxamide`         | `OD1`           | `ASN`   |\n",
    "| `N_amino`               | `NZ`            | `LYS`   |\n",
    "| `N_guanidino`           | `NH2`           | `ARG`   |\n",
    "| `N_imidazol_plus`       | `ND1`           | `HIS`   |\n",
    "| `N_imidazol_minus`      | `NE2`           | `HIS`   |\n",
    "| `N_pyrazole`            | `N`             | `PRO`   |\n",
    "| `N_amide`               | `ND2`           | `ASP`   |\n",
    "| `C_ring_not_arom`       | `CG`            | `PRO`   |\n",
    "| `C_ring_arom`           | `CZ`            | `PHE`   |\n",
    "| `C_single_link`         | `CG2`           | `THR`   |\n",
    "| `C_double_link`         | `CG`            | `ARG`   |\n",
    "| `C_triple_link`         | `CG`            | `LEU`   |\n",
    "\n",
    "---\n"
   ]
  },
  {
   "cell_type": "code",
   "execution_count": 7,
   "id": "flush-laundry",
   "metadata": {},
   "outputs": [],
   "source": [
    "atomMappingsDict = {\n",
    "    \"N1\": \"N_amide\",\n",
    "    \"N2\": \"N_amide\",\n",
    "    \"N3\": \"N_pyrazole\",\n",
    "    \"C1\": \"C_ring_arom\",\n",
    "    \"C2\": \"C_ring_arom\",\n",
    "    \"C3\": \"C_ring_arom\",\n",
    "    \"C4\": \"C_ring_arom\",\n",
    "    \"C5\": \"C_ring_arom\",\n",
    "    \"C6\": \"C_ring_arom\",\n",
    "    \"C7\": \"C_ring_arom\",\n",
    "    \"C8\": \"C_ring_arom\",\n",
    "    \"C9\": \"C_ring_arom\",\n",
    "    \"C10\": \"C_ring_not_arom\",\n",
    "    \"C11\": \"C_ring_not_arom\",\n",
    "    \"C12\": \"C_ring_not_arom\",\n",
    "    \"C13\": \"C_ring_not_arom\",\n",
    "    \"C14\": \"C_ring_not_arom\",\n",
    "    \"C15\": \"C_ring_not_arom\",\n",
    "    \"C16\": \"C_ring_not_arom\",\n",
    "    \"C17\": \"C_single_link\",\n",
    "    \"C18\": \"C_ring_not_arom\",\n",
    "    \"C19\": \"C_ring_not_arom\",\n",
    "    \"C20\": \"C_ring_not_arom\",\n",
    "    \"C21\": \"C_double_link\",\n",
    "    \"O1\": \"O_hydroxyl\",\n",
    "    \"O2\": \"O_hydroxyl\",\n",
    "    \"O3\": \"O_hydroxyl\",\n",
    "    \"O4\": \"O_hydroxyl\",\n",
    "    \"F1\": \"O_ring\",\n",
    "}"
   ]
  },
  {
   "cell_type": "markdown",
   "id": "first-delivery",
   "metadata": {},
   "source": [
    "## **Step 3**: Create MFX parameter file\n",
    "\n",
    "Generate the JSON parameter file for FoldX:"
   ]
  },
  {
   "cell_type": "code",
   "execution_count": 8,
   "id": "eligible-polish",
   "metadata": {},
   "outputs": [
    {
     "name": "stdout",
     "output_type": "stream",
     "text": [
      "Mappings loaded:\n",
      "Atom N1 mapped to atom ('ND2', 'ASP')\n",
      "Atom N2 mapped to atom ('ND2', 'ASP')\n",
      "Atom N3 mapped to atom ('N', 'PRO')\n",
      "Atom C1 mapped to atom ('CZ', 'PHE')\n",
      "Atom C2 mapped to atom ('CZ', 'PHE')\n",
      "Atom C3 mapped to atom ('CZ', 'PHE')\n",
      "Atom C4 mapped to atom ('CZ', 'PHE')\n",
      "Atom C5 mapped to atom ('CZ', 'PHE')\n",
      "Atom C6 mapped to atom ('CZ', 'PHE')\n",
      "Atom C7 mapped to atom ('CZ', 'PHE')\n",
      "Atom C8 mapped to atom ('CZ', 'PHE')\n",
      "Atom C9 mapped to atom ('CZ', 'PHE')\n",
      "Atom C10 mapped to atom ('CG', 'PRO')\n",
      "Atom C11 mapped to atom ('CG', 'PRO')\n",
      "Atom C12 mapped to atom ('CG', 'PRO')\n",
      "Atom C13 mapped to atom ('CG', 'PRO')\n",
      "Atom C14 mapped to atom ('CG', 'PRO')\n",
      "Atom C15 mapped to atom ('CG', 'PRO')\n",
      "Atom C16 mapped to atom ('CG', 'PRO')\n",
      "Atom C17 mapped to atom ('CG2', 'THR')\n",
      "Atom C18 mapped to atom ('CG', 'PRO')\n",
      "Atom C19 mapped to atom ('CG', 'PRO')\n",
      "Atom C20 mapped to atom ('CG', 'PRO')\n",
      "Atom C21 mapped to atom ('CG', 'ARG')\n",
      "Atom O1 mapped to atom ('OG', 'SER')\n",
      "Atom O2 mapped to atom ('OG', 'SER')\n",
      "Atom O3 mapped to atom ('OG', 'SER')\n",
      "Atom O4 mapped to atom ('OG', 'SER')\n",
      "Atom F1 mapped to atom ('O4*', 'A')\n"
     ]
    }
   ],
   "source": [
    "newMol = parameterize(lig_lines, atomMappingsDict)"
   ]
  },
  {
   "cell_type": "code",
   "execution_count": 9,
   "id": "4b9d3e62-7331-47b5-b69a-568b22cf0fbe",
   "metadata": {
    "scrolled": true
   },
   "outputs": [
    {
     "data": {
      "text/plain": [
       "True"
      ]
     },
     "execution_count": 9,
     "metadata": {},
     "output_type": "execute_result"
    }
   ],
   "source": [
    "FileHandler.writeLine(\"molecules/MFX.json\", newMol.toJson())"
   ]
  }
 ],
 "metadata": {
  "kernelspec": {
   "display_name": "Python (pyfoldx-env)",
   "language": "python",
   "name": "pyfoldx-env"
  },
  "language_info": {
   "codemirror_mode": {
    "name": "ipython",
    "version": 3
   },
   "file_extension": ".py",
   "mimetype": "text/x-python",
   "name": "python",
   "nbconvert_exporter": "python",
   "pygments_lexer": "ipython3",
   "version": "3.10.16"
  }
 },
 "nbformat": 4,
 "nbformat_minor": 5
}
