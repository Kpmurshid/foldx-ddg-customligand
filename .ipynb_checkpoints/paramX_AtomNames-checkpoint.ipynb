{
 "cells": [
  {
   "cell_type": "markdown",
   "id": "iraqi-relation",
   "metadata": {},
   "source": [
    "# Parameterizing MFX ligand\n"
   ]
  },
  {
   "cell_type": "code",
   "execution_count": 2,
   "id": "threatened-apartment",
   "metadata": {},
   "outputs": [],
   "source": [
    "from pyfoldx.handlers.fileHandler import FileHandler\n",
    "from pyfoldx.structure import Structure\n",
    "from pyfoldx.paramx import parameterize, JSonMolecule\n",
    "\n",
    "from IPython.core import display\n",
    "# import seaborn as sns\n",
    "import os"
   ]
  },
  {
   "cell_type": "code",
   "execution_count": 3,
   "id": "ed504757-355e-4e8d-a5d9-dec7d7fbb839",
   "metadata": {},
   "outputs": [],
   "source": [
    "# === Setup ===\n",
    "os.makedirs(\"paramx_output\", exist_ok=True)"
   ]
  },
  {
   "cell_type": "markdown",
   "id": "respiratory-chuck",
   "metadata": {},
   "source": [
    "## **Step 1**: Extract MFX coordinates from the PDB\n",
    "\n",
    "Load the structure and keep the lines of the MFX ligand."
   ]
  },
  {
   "cell_type": "code",
   "execution_count": 4,
   "id": "impossible-hughes",
   "metadata": {},
   "outputs": [],
   "source": [
    "# Load your complex.pdb\n",
    "structure = Structure(\"complex\", \"complex_renamed.pdb\")"
   ]
  },
  {
   "cell_type": "markdown",
   "id": "knowing-electricity",
   "metadata": {},
   "source": [
    "The *Structure* class has a *data* dictionary organized by chains, residues and atoms."
   ]
  },
  {
   "cell_type": "code",
   "execution_count": 5,
   "id": "trying-standard",
   "metadata": {},
   "outputs": [
    {
     "data": {
      "text/plain": [
       "Residue(MFX,1,L,True)"
      ]
     },
     "execution_count": 5,
     "metadata": {},
     "output_type": "execute_result"
    }
   ],
   "source": [
    "# === 2. Extract the ligand residue (named MFX) ===\n",
    "lig_residue = None\n",
    "for chain in structure.data:\n",
    "    for res in structure.data[chain]:\n",
    "        if structure.data[chain][res].code == \"MFX\":\n",
    "            lig_residue = structure.data[chain][res]\n",
    "            break\n",
    "    if lig_residue:\n",
    "        break\n",
    "\n",
    "if not lig_residue:\n",
    "    raise ValueError(\"❌ Ligand residue 'MFX' not found in complex.pdb\")\n",
    "lig_residue"
   ]
  },
  {
   "cell_type": "code",
   "execution_count": 6,
   "id": "f820031c-e07a-459c-a94b-b546e5b22e98",
   "metadata": {},
   "outputs": [
    {
     "name": "stdout",
     "output_type": "stream",
     "text": [
      "✅ Extracted 31 lines for MFX.\n"
     ]
    }
   ],
   "source": [
    "# === Extract ALL residues named 'MFX' ===\n",
    "lig_lines = []\n",
    "for chain in structure.data:\n",
    "    for res in structure.data[chain]:\n",
    "        if structure.data[chain][res].code == \"MFX\":\n",
    "            lig_lines.extend(structure.data[chain][res].toPdb().split(\"\\n\"))\n",
    "\n",
    "# === Save the complete ligand lines ===\n",
    "FileHandler.writeLines(\"paramx_output/ligand_full.pdb\", lig_lines)\n",
    "\n",
    "print(f\"✅ Extracted {len(lig_lines)} lines for MFX.\")"
   ]
  },
  {
   "cell_type": "markdown",
   "id": "classical-discovery",
   "metadata": {},
   "source": [
    "Isolate the MFX residue lines for parameterization"
   ]
  },
  {
   "cell_type": "code",
   "execution_count": 6,
   "id": "specific-aurora",
   "metadata": {},
   "outputs": [
    {
     "data": {
      "text/plain": [
       "['HETATM 8023  N1  MFX L   1     216.032 230.099 202.155  1.00  0.00           N  ',\n",
       " 'HETATM 8024  N2  MFX L   1     216.188 229.750 207.173  1.00  0.00           N  ',\n",
       " 'HETATM 8025  N3  MFX L   1     216.350 228.102 210.509  1.00  0.00           N  ',\n",
       " 'HETATM 8026  C1  MFX L   1     215.495 230.023 205.961  1.00  0.00           C  ',\n",
       " 'HETATM 8027  C2  MFX L   1     215.458 230.263 203.478  1.00  0.00           C  ',\n",
       " 'HETATM 8028  C3  MFX L   1     216.056 229.759 204.674  1.00  0.00           C  ',\n",
       " 'HETATM 8029  C4  MFX L   1     214.249 231.025 203.609  1.00  0.00           C  ',\n",
       " 'HETATM 8030  C5  MFX L   1     214.267 230.720 205.994  1.00  0.00           C  ',\n",
       " 'HETATM 8031  C6  MFX L   1     215.256 230.858 201.193  1.00  0.00           C  ',\n",
       " 'HETATM 8032  C7  MFX L   1     213.654 231.209 204.848  1.00  0.00           C  ',\n",
       " 'HETATM 8033  C8  MFX L   1     214.200 231.596 201.124  1.00  0.00           C  ',\n",
       " 'HETATM 8034  C9  MFX L   1     213.562 231.715 202.453  1.00  0.00           C  ',\n",
       " 'HETATM 8035  C10 MFX L   1     215.718 228.796 208.182  1.00  0.00           C  ',\n",
       " 'HETATM 8036  C11 MFX L   1     215.893 229.123 209.566  1.00  0.00           C  ',\n",
       " 'HETATM 8037  C12 MFX L   1     216.449 230.540 209.521  1.00  0.00           C  ',\n",
       " 'HETATM 8038  C13 MFX L   1     217.138 228.778 211.535  1.00  0.00           C  ',\n",
       " 'HETATM 8039  C14 MFX L   1     217.796 230.121 211.817  1.00  0.00           C  ',\n",
       " 'HETATM 8040  C15 MFX L   1     217.306 230.884 210.599  1.00  0.00           C  ',\n",
       " 'HETATM 8041  C16 MFX L   1     216.580 230.801 208.123  1.00  0.00           C  ',\n",
       " 'HETATM 8042  C17 MFX L   1     218.332 230.130 204.743  1.00  0.00           C  ',\n",
       " 'HETATM 8043  C18 MFX L   1     216.673 228.943 201.757  1.00  0.00           C  ',\n",
       " 'HETATM 8044  C19 MFX L   1     217.937 229.028 201.095  1.00  0.00           C  ',\n",
       " 'HETATM 8045  C20 MFX L   1     216.697 228.638 200.361  1.00  0.00           C  ',\n",
       " 'HETATM 8046  C21 MFX L   1     213.750 232.251 199.897  1.00  0.00           C  ',\n",
       " 'HETATM 8047  O1  MFX L   1     212.537 232.376 202.589  1.00  0.00           O  ',\n",
       " 'HETATM 8048  O2  MFX L   1     217.306 229.171 204.601  1.00  0.00           O  ',\n",
       " 'HETATM 8049  O3  MFX L   1     214.068 231.873 198.778  1.00  0.00           O  ',\n",
       " 'HETATM 8050  O4  MFX L   1     212.955 233.324 200.100  1.00  0.00           O  ',\n",
       " 'HETATM 8051  F1  MFX L   1     213.662 230.995 207.157  1.00  0.00           F  ',\n",
       " 'HETATM 8052  H1  MFX L   1     215.573 227.550 210.868  1.00  0.00           H  ',\n",
       " 'HETATM 8053  H2  MFX L   1     212.404 233.286 200.920  1.00  0.00           H  ']"
      ]
     },
     "execution_count": 6,
     "metadata": {},
     "output_type": "execute_result"
    }
   ],
   "source": [
    "lig_lines"
   ]
  },
  {
   "cell_type": "markdown",
   "id": "surprised-labor",
   "metadata": {},
   "source": [
    "## **Step 2**: Mapping MFX atoms to FoldX parameters\n",
    "\n",
    "Create atom mappings based on MFX's structure (modify according to your MFX's actual atoms):"
   ]
  },
  {
   "cell_type": "code",
   "execution_count": 7,
   "id": "flush-laundry",
   "metadata": {},
   "outputs": [],
   "source": [
    "atomMappingsDict = {\n",
    "    \"N1\": \"N_amide\",\n",
    "    \"N2\": \"N_amide\",\n",
    "    \"N3\": \"N_pyrazole\",\n",
    "    \"C1\": \"C_ring_arom\",\n",
    "    \"C2\": \"C_ring_arom\",\n",
    "    \"C3\": \"C_ring_arom\",\n",
    "    \"C4\": \"C_ring_arom\",\n",
    "    \"C5\": \"C_ring_arom\",\n",
    "    \"C6\": \"C_ring_arom\",\n",
    "    \"C7\": \"C_ring_arom\",\n",
    "    \"C8\": \"C_ring_arom\",\n",
    "    \"C9\": \"C_ring_arom\",\n",
    "    \"C10\": \"C_ring_not_arom\",\n",
    "    \"C11\": \"C_ring_not_arom\",\n",
    "    \"C12\": \"C_ring_not_arom\",\n",
    "    \"C13\": \"C_ring_not_arom\",\n",
    "    \"C14\": \"C_ring_not_arom\",\n",
    "    \"C15\": \"C_ring_not_arom\",\n",
    "    \"C16\": \"C_ring_not_arom\",\n",
    "    \"C17\": \"C_single_link\",\n",
    "    \"C18\": \"C_ring_not_arom\",\n",
    "    \"C19\": \"C_ring_not_arom\",\n",
    "    \"C20\": \"C_ring_not_arom\",\n",
    "    \"C21\": \"C_double_link\",\n",
    "    \"O1\": \"O_hydroxyl\",\n",
    "    \"O2\": \"O_hydroxyl\",\n",
    "    \"O3\": \"O_hydroxyl\",\n",
    "    \"O4\": \"O_hydroxyl\",\n",
    "    \"F1\": \"O_ring\",\n",
    "}"
   ]
  },
  {
   "cell_type": "markdown",
   "id": "first-delivery",
   "metadata": {},
   "source": [
    "## **Step 3**: Create MFX parameter file\n",
    "\n",
    "Generate the JSON parameter file for FoldX:"
   ]
  },
  {
   "cell_type": "code",
   "execution_count": 8,
   "id": "eligible-polish",
   "metadata": {},
   "outputs": [
    {
     "name": "stdout",
     "output_type": "stream",
     "text": [
      "Mappings loaded:\n",
      "Atom N1 mapped to atom ('ND2', 'ASP')\n",
      "Atom N2 mapped to atom ('ND2', 'ASP')\n",
      "Atom N3 mapped to atom ('N', 'PRO')\n",
      "Atom C1 mapped to atom ('CZ', 'PHE')\n",
      "Atom C2 mapped to atom ('CZ', 'PHE')\n",
      "Atom C3 mapped to atom ('CZ', 'PHE')\n",
      "Atom C4 mapped to atom ('CZ', 'PHE')\n",
      "Atom C5 mapped to atom ('CZ', 'PHE')\n",
      "Atom C6 mapped to atom ('CZ', 'PHE')\n",
      "Atom C7 mapped to atom ('CZ', 'PHE')\n",
      "Atom C8 mapped to atom ('CZ', 'PHE')\n",
      "Atom C9 mapped to atom ('CZ', 'PHE')\n",
      "Atom C10 mapped to atom ('CG', 'PRO')\n",
      "Atom C11 mapped to atom ('CG', 'PRO')\n",
      "Atom C12 mapped to atom ('CG', 'PRO')\n",
      "Atom C13 mapped to atom ('CG', 'PRO')\n",
      "Atom C14 mapped to atom ('CG', 'PRO')\n",
      "Atom C15 mapped to atom ('CG', 'PRO')\n",
      "Atom C16 mapped to atom ('CG', 'PRO')\n",
      "Atom C17 mapped to atom ('CG2', 'THR')\n",
      "Atom C18 mapped to atom ('CG', 'PRO')\n",
      "Atom C19 mapped to atom ('CG', 'PRO')\n",
      "Atom C20 mapped to atom ('CG', 'PRO')\n",
      "Atom C21 mapped to atom ('CG', 'ARG')\n",
      "Atom O1 mapped to atom ('OG', 'SER')\n",
      "Atom O2 mapped to atom ('OG', 'SER')\n",
      "Atom O3 mapped to atom ('OG', 'SER')\n",
      "Atom O4 mapped to atom ('OG', 'SER')\n",
      "Atom F1 mapped to atom ('O4*', 'A')\n"
     ]
    }
   ],
   "source": [
    "newMol = parameterize(lig_lines, atomMappingsDict)"
   ]
  },
  {
   "cell_type": "code",
   "execution_count": 9,
   "id": "4b9d3e62-7331-47b5-b69a-568b22cf0fbe",
   "metadata": {
    "scrolled": true
   },
   "outputs": [
    {
     "data": {
      "text/plain": [
       "True"
      ]
     },
     "execution_count": 9,
     "metadata": {},
     "output_type": "execute_result"
    }
   ],
   "source": [
    "FileHandler.writeLine(\"molecules/MFX.json\", newMol.toJson())"
   ]
  },
  {
   "cell_type": "code",
   "execution_count": null,
   "id": "caf385f9-45ce-4b71-b44f-bcab70ae4f8f",
   "metadata": {},
   "outputs": [],
   "source": []
  }
 ],
 "metadata": {
  "kernelspec": {
   "display_name": "Python (pyfoldx-env)",
   "language": "python",
   "name": "pyfoldx-env"
  },
  "language_info": {
   "codemirror_mode": {
    "name": "ipython",
    "version": 3
   },
   "file_extension": ".py",
   "mimetype": "text/x-python",
   "name": "python",
   "nbconvert_exporter": "python",
   "pygments_lexer": "ipython3",
   "version": "3.10.16"
  }
 },
 "nbformat": 4,
 "nbformat_minor": 5
}
